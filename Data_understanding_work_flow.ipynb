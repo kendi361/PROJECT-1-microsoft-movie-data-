{
  "nbformat": 4,
  "nbformat_minor": 0,
  "metadata": {
    "colab": {
      "provenance": []
    },
    "kernelspec": {
      "name": "python3",
      "display_name": "Python 3"
    },
    "language_info": {
      "name": "python"
    }
  },
  "cells": [
    {
      "cell_type": "markdown",
      "source": [
        "DATA UNDERSTANDING OF THE PROJECT"
      ],
      "metadata": {
        "id": "U9bc6r0eKWiu"
      }
    },
    {
      "cell_type": "markdown",
      "source": [
        "STEP 1.\n",
        "Import Libraries - import is necessary since we need to begin by importing the necessary Python libraries for accurate data manipulation"
      ],
      "metadata": {
        "id": "P393xobtKR4U"
      }
    },
    {
      "cell_type": "markdown",
      "source": [
        "STEP 2\n",
        "Load data - We load four key datasets:\n",
        "Box Office Mojo Gross Data\n",
        "Title Basics\n",
        "Ratings"
      ],
      "metadata": {
        "id": "PfKiQnx2Kw1Y"
      }
    },
    {
      "cell_type": "markdown",
      "source": [
        "STEP 3\n",
        " preview data- previewing data helps preview the first few rows of each dataset for easier understanding of the structure of each dataset so that we understand their columns and data structure.this further guides us on how to clean and merge the datasets effectively."
      ],
      "metadata": {
        "id": "mJfmTJfRLXqs"
      }
    },
    {
      "cell_type": "markdown",
      "source": [
        "STEP 4\n",
        "cleaning data on budgets - cleaning currency values by removing dollar signs and commas so that we convert them into numeric formats we are also converting the release date to datetime this helps to get better analysis"
      ],
      "metadata": {
        "id": "mxIJWDPRLXnJ"
      }
    },
    {
      "cell_type": "markdown",
      "source": [
        "STEP 5\n",
        "check missing values - the main objective is to check for missing values and identify columns that may need cleaning."
      ],
      "metadata": {
        "id": "JAZwVBBALXk7"
      }
    },
    {
      "cell_type": "markdown",
      "source": [
        "STEP 6  check for duplicates"
      ],
      "metadata": {
        "id": "QAc4K0RaLXiD"
      }
    },
    {
      "cell_type": "markdown",
      "source": [
        "STEP 7 get summary statistics"
      ],
      "metadata": {
        "id": "n4O3D6BuLXa6"
      }
    },
    {
      "cell_type": "markdown",
      "source": [
        "STEP 8.  visualizations"
      ],
      "metadata": {
        "id": "sc6R2PvyMObd"
      }
    },
    {
      "cell_type": "markdown",
      "source": [
        "STEP 9.  seperating the data in subsets"
      ],
      "metadata": {
        "id": "P_YOUOUxMSYP"
      }
    },
    {
      "cell_type": "markdown",
      "source": [
        "STEP 11.calculating correlations - the aim is to find features that are more strongly correlated with domestic gross."
      ],
      "metadata": {
        "id": "9N0OEx5cMas0"
      }
    },
    {
      "cell_type": "markdown",
      "source": [
        "STEP 12.\n",
        "BUSINESS RECOMMENDATIONS\n",
        "\n",
        "CONCLUSION"
      ],
      "metadata": {
        "id": "eicAqPoFMig5"
      }
    }
  ]
}